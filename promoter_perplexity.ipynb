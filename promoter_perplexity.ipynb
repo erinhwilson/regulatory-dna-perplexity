{
 "cells": [
  {
   "cell_type": "markdown",
   "metadata": {},
   "source": [
    "# Investigating perplexity scores for promoter regions using varying promoter extraction techniques"
   ]
  },
  {
   "cell_type": "code",
   "execution_count": 1,
   "metadata": {},
   "outputs": [],
   "source": [
    "import Bio\n",
    "from Bio import SeqIO, SeqFeature\n",
    "from Bio.SeqRecord import SeqRecord\n",
    "from Bio.Seq import Seq\n",
    "\n",
    "import pandas as pd\n",
    "import matplotlib.pyplot as plt\n",
    "import numpy as np\n",
    "import seaborn as sns"
   ]
  },
  {
   "cell_type": "markdown",
   "metadata": {},
   "source": [
    "## Genbank files and general genome info"
   ]
  },
  {
   "cell_type": "code",
   "execution_count": 2,
   "metadata": {},
   "outputs": [],
   "source": [
    "# 5GB1c genome (Methylomicrobium buryatense from Mitch)\n",
    "gbFile_5G = 'data/5GB1c.current.gb'\n",
    "\n",
    "# E. coli genome (https://www.ncbi.nlm.nih.gov/nuccore/NC_000913.2)\n",
    "gbFile_ecoli = 'data/ecoli_k12_NC_000913.2.gb'"
   ]
  },
  {
   "cell_type": "code",
   "execution_count": 3,
   "metadata": {},
   "outputs": [
    {
     "name": "stdout",
     "output_type": "stream",
     "text": [
      "___ 5G ____\n",
      "Genome length: 4998879 bps\n",
      "num features: 8863\n",
      "num CDS features: 4369\n",
      "num gene features: 4427\n",
      "\n",
      "___ Ecoli ____\n",
      "Genome length: 4639675 bps\n",
      "num features: 9913\n",
      "num CDS features: 4321\n",
      "num gene features: 4497\n"
     ]
    }
   ],
   "source": [
    "gb_5G = SeqIO.parse(gbFile_5G, \"genbank\").__next__()\n",
    "gb_ecoli = SeqIO.parse(gbFile_ecoli, \"genbank\").__next__()\n",
    "\n",
    "print(\"___ 5G ____\")\n",
    "print(\"Genome length:\", len(gb_5G.seq), \"bps\")\n",
    "print(\"num features:\", len(gb_5G.features))\n",
    "print(\"num CDS features:\", len([x for x in gb_5G.features if x.type=='CDS']))\n",
    "print(\"num gene features:\", len([x for x in gb_5G.features if x.type=='gene']))\n",
    "\n",
    "print(\"\\n___ Ecoli ____\")\n",
    "print(\"Genome length:\", len(gb_ecoli.seq), \"bps\")\n",
    "print(\"num features:\", len(gb_ecoli.features))\n",
    "print(\"num CDS features:\", len([x for x in gb_ecoli.features if x.type=='CDS']))\n",
    "print(\"num gene features:\", len([x for x in gb_ecoli.features if x.type=='gene']))"
   ]
  },
  {
   "cell_type": "code",
   "execution_count": 4,
   "metadata": {},
   "outputs": [
    {
     "name": "stdout",
     "output_type": "stream",
     "text": [
      "type: source\n",
      "location: [0:4998879](+)\n",
      "qualifiers:\n",
      "    Key: collection_date, Value: ['1999-01']\n",
      "    Key: country, Value: ['Russia: Transbaikal']\n",
      "    Key: db_xref, Value: ['taxon:95641']\n",
      "    Key: isolation_source, Value: ['Soda lake sediment']\n",
      "    Key: mol_type, Value: ['genomic DNA']\n",
      "    Key: organism, Value: ['Methylomicrobium buryatense']\n",
      "    Key: strain, Value: ['5GB1C']\n",
      "\n",
      "type: gene\n",
      "location: [0:1317](+)\n",
      "qualifiers:\n",
      "    Key: gene, Value: ['dnaA']\n",
      "    Key: locus_tag, Value: ['EQU24_00005']\n",
      "\n",
      "type: CDS\n",
      "location: [0:1317](+)\n",
      "qualifiers:\n",
      "    Key: codon_start, Value: ['1']\n",
      "    Key: gene, Value: ['dnaA']\n",
      "    Key: inference, Value: ['COORDINATES: similar to AA sequence:RefSeq:WP_006891211.1']\n",
      "    Key: locus_tag, Value: ['EQU24_00005']\n",
      "    Key: note, Value: ['Derived by automated computational analysis using gene prediction method: Protein Homology.']\n",
      "    Key: product, Value: ['chromosomal replication initiator protein DnaA']\n",
      "    Key: protein_id, Value: ['PRJNA515283:EQU24_00005']\n",
      "    Key: transl_table, Value: ['11']\n",
      "    Key: translation, Value: ['MSALWNNCLAKLENEISSSEFSTWIRPLQAIETDGQIKLLAPNRFVLDWVKEHHFAKLEEAIQQLSNGSLSLQLDIGSKKAIPAPAPQHTKAPDSKKSRPNFLNRAFIFDNFVEGKSNQLAKAASIQVSENIGKAYNPLLIYGASGLGKTHLMHAIGNAILQHNPSAKIVYLHSEKFVQDMVKALQQNAIDTFKEYYRGVDTLLIDDIQFFAGKERSQEEFFHTFNTLLEKKHQVVLTCDKYPKEIVGLEDRLKSRFGWGLPVAIEPPDLETRAAILMKKAMMAGVDLPQEVAFFIGKRIPSNVRDLEGALRRVIANAQFTGREITTEFTKEALHDLISLQDKLVNIDNIQKTVAEYFKIRVADLSSKNRRQSITRPRQIAMCLARELTSHSFPEIGEAFGGRDHTTVINACKRIASLRDSDVKLEEDYLNLLRTLSH']\n",
      "\n",
      "type: gene\n",
      "location: [1502:2603](+)\n",
      "qualifiers:\n",
      "    Key: locus_tag, Value: ['EQU24_00010']\n",
      "\n",
      "type: CDS\n",
      "location: [1502:2603](+)\n",
      "qualifiers:\n",
      "    Key: EC_number, Value: ['2.7.7.7']\n",
      "    Key: codon_start, Value: ['1']\n",
      "    Key: inference, Value: ['COORDINATES: similar to AA sequence:RefSeq:WP_020484043.1']\n",
      "    Key: locus_tag, Value: ['EQU24_00010']\n",
      "    Key: note, Value: ['Derived by automated computational analysis using gene prediction method: Protein Homology.']\n",
      "    Key: product, Value: ['DNA polymerase III subunit beta']\n",
      "    Key: protein_id, Value: ['PRJNA515283:EQU24_00010']\n",
      "    Key: transl_table, Value: ['11']\n",
      "    Key: translation, Value: ['MKYIINREQLLVPLQQIVSVIEKRQTMPILSNVLMVFRENTLVMTGTDLEVQIVTEIAIENTTFAEITLPARKFLDICRLLPTGADIKLEVADDKVKVLSGRSRFILSTLPAENYPEFSETELDHRFTINAGLFKKALEKTVFCMASQDVRYYLNGLLLNISNSRIKLVASDGHRLSVFEDNLANPAGYEARIILPRKGVMELVRLLDDPQIQLAIEFSSNNIRVTINNTIFSAKLVDAKYPDFNRVFHQDFLTPIHIQRQLLKDALTRVAILSNEKYKGVTFDLSSDSLKISAHNPEHEEAEEEIVTDYVGEPLSIAFNVQYVLDAISNIDSEISELTIASNSSCCIIDEPETRSYRFIVMPMRL']\n",
      "\n",
      "type: source\n",
      "location: [0:4639675](+)\n",
      "qualifiers:\n",
      "    Key: db_xref, Value: ['taxon:511145']\n",
      "    Key: mol_type, Value: ['genomic DNA']\n",
      "    Key: organism, Value: ['Escherichia coli str. K-12 substr. MG1655']\n",
      "    Key: strain, Value: ['K-12']\n",
      "    Key: sub_strain, Value: ['MG1655']\n",
      "\n",
      "type: gene\n",
      "location: [189:255](+)\n",
      "qualifiers:\n",
      "    Key: db_xref, Value: ['EcoGene:EG11277', 'GeneID:944742']\n",
      "    Key: gene, Value: ['thrL']\n",
      "    Key: gene_synonym, Value: ['ECK0001; JW4367']\n",
      "    Key: locus_tag, Value: ['b0001']\n",
      "\n",
      "type: CDS\n",
      "location: [189:255](+)\n",
      "qualifiers:\n",
      "    Key: GO_process, Value: ['GO:0009088 - threonine biosynthetic process']\n",
      "    Key: codon_start, Value: ['1']\n",
      "    Key: db_xref, Value: ['ASAP:ABE-0000006', 'UniProtKB/Swiss-Prot:P0AD86', 'EcoGene:EG11277', 'GeneID:944742']\n",
      "    Key: function, Value: ['leader; Amino acid biosynthesis: Threonine', '1.5.1.8 metabolism; building block biosynthesis; amino acids; threonine']\n",
      "    Key: gene, Value: ['thrL']\n",
      "    Key: gene_synonym, Value: ['ECK0001; JW4367']\n",
      "    Key: locus_tag, Value: ['b0001']\n",
      "    Key: product, Value: ['thr operon leader peptide']\n",
      "    Key: protein_id, Value: ['NP_414542.1']\n",
      "    Key: transl_table, Value: ['11']\n",
      "    Key: translation, Value: ['MKRISTTITTTITITTGNGAG']\n",
      "\n",
      "type: gene\n",
      "location: [336:2799](+)\n",
      "qualifiers:\n",
      "    Key: db_xref, Value: ['EcoGene:EG10998', 'GeneID:945803']\n",
      "    Key: gene, Value: ['thrA']\n",
      "    Key: gene_synonym, Value: ['ECK0002; Hs; JW0001; thrA1; thrA2; thrD']\n",
      "    Key: locus_tag, Value: ['b0002']\n",
      "\n",
      "type: CDS\n",
      "location: [336:2799](+)\n",
      "qualifiers:\n",
      "    Key: EC_number, Value: ['1.1.1.3', '2.7.2.4']\n",
      "    Key: GO_component, Value: ['GO:0005737 - cytoplasm']\n",
      "    Key: GO_process, Value: ['GO:0009090 - homoserine biosynthetic process; GO:0009086 - methionine biosynthetic process; GO:0009088 - threonine biosynthetic process']\n",
      "    Key: codon_start, Value: ['1']\n",
      "    Key: db_xref, Value: ['ASAP:ABE-0000008', 'UniProtKB/Swiss-Prot:P00561', 'EcoGene:EG10998', 'GeneID:945803']\n",
      "    Key: experiment, Value: ['N-terminus verified by Edman degradation: PMID 354697,4562989']\n",
      "    Key: function, Value: ['enzyme; Amino acid biosynthesis: Threonine', '1.5.1.8 metabolism; building block biosynthesis; amino acids; threonine', '1.5.1.21 metabolism; building block biosynthesis; amino acids; homoserine', '7.1 location of gene products; cytoplasm']\n",
      "    Key: gene, Value: ['thrA']\n",
      "    Key: gene_synonym, Value: ['ECK0002; Hs; JW0001; thrA1; thrA2; thrD']\n",
      "    Key: locus_tag, Value: ['b0002']\n",
      "    Key: note, Value: ['bifunctional: aspartokinase I (N-terminal); homoserine dehydrogenase I (C-terminal)']\n",
      "    Key: product, Value: ['fused aspartokinase I and homoserine dehydrogenase I']\n",
      "    Key: protein_id, Value: ['NP_414543.1']\n",
      "    Key: transl_table, Value: ['11']\n",
      "    Key: translation, Value: ['MRVLKFGGTSVANAERFLRVADILESNARQGQVATVLSAPAKITNHLVAMIEKTISGQDALPNISDAERIFAELLTGLAAAQPGFPLAQLKTFVDQEFAQIKHVLHGISLLGQCPDSINAALICRGEKMSIAIMAGVLEARGHNVTVIDPVEKLLAVGHYLESTVDIAESTRRIAASRIPADHMVLMAGFTAGNEKGELVVLGRNGSDYSAAVLAACLRADCCEIWTDVDGVYTCDPRQVPDARLLKSMSYQEAMELSYFGAKVLHPRTITPIAQFQIPCLIKNTGNPQAPGTLIGASRDEDELPVKGISNLNNMAMFSVSGPGMKGMVGMAARVFAAMSRARISVVLITQSSSEYSISFCVPQSDCVRAERAMQEEFYLELKEGLLEPLAVTERLAIISVVGDGMRTLRGISAKFFAALARANINIVAIAQGSSERSISVVVNNDDATTGVRVTHQMLFNTDQVIEVFVIGVGGVGGALLEQLKRQQSWLKNKHIDLRVCGVANSKALLTNVHGLNLENWQEELAQAKEPFNLGRLIRLVKEYHLLNPVIVDCTSSQAVADQYADFLREGFHVVTPNKKANTSSMDYYHQLRYAAEKSRRKFLYDTNVGAGLPVIENLQNLLNAGDELMKFSGILSGSLSYIFGKLDEGMSFSEATTLAREMGYTEPDPRDDLSGMDVARKLLILARETGRELELADIEIEPVLPAEFNAEGDVAAFMANLSQLDDLFAARVAKARDEGKVLRYVGNIDEDGVCRVKIAEVDGNDPLFKVKNGENALAFYSHYYQPLPLVLRGYGAGNDVTAAGVFADLLRTLSWKLGV']\n",
      "\n"
     ]
    }
   ],
   "source": [
    "# a sampling of genbank features\n",
    "for x in gb_5G.features[:5]:\n",
    "    print(x)\n",
    "    \n",
    "for x in gb_ecoli.features[:5]:\n",
    "    print(x)"
   ]
  },
  {
   "cell_type": "markdown",
   "metadata": {},
   "source": [
    "## CDS processing"
   ]
  },
  {
   "cell_type": "code",
   "execution_count": 5,
   "metadata": {},
   "outputs": [],
   "source": [
    "def get_cds_coords(seq_record):\n",
    "    '''\n",
    "    Given a SeqRecord parsed from a genbank file, return a list of \n",
    "    all the CDS start/end coordinates and gene/locus names\n",
    "    '''\n",
    "    cds_list = []\n",
    "    # Loop over the genome CDS features on each of the strands\n",
    "    for feature in seq_record.features:\n",
    "        if feature.type == 'CDS':\n",
    "            # get  locus tag and gene name\n",
    "            lt = feature.qualifiers['locus_tag'][0]\n",
    "            g = \"\" if 'gene' not in feature.qualifiers else feature.qualifiers['gene'][0]\n",
    "            \n",
    "            cds_list.append((feature.location.start.position,\n",
    "                             feature.location.end.position,\n",
    "                             feature.strand,\n",
    "                             lt,\n",
    "                             g))\n",
    "    return cds_list"
   ]
  },
  {
   "cell_type": "code",
   "execution_count": 6,
   "metadata": {},
   "outputs": [
    {
     "name": "stdout",
     "output_type": "stream",
     "text": [
      "[(0, 1317, 1, 'EQU24_00005', 'dnaA'), (1502, 2603, 1, 'EQU24_00010', ''), (3060, 4140, 1, 'EQU24_00015', 'recF'), (4185, 6600, 1, 'EQU24_00020', 'gyrB'), (6825, 7062, 1, 'EQU24_00025', ''), (7098, 7257, 1, 'EQU24_00030', ''), (7350, 7734, 1, 'EQU24_00035', ''), (7818, 9075, 1, 'EQU24_00040', ''), (9071, 10241, 1, 'EQU24_00045', ''), (10240, 13306, 1, 'EQU24_00050', '')]\n",
      "\n",
      "[(189, 255, 1, 'b0001', 'thrL'), (336, 2799, 1, 'b0002', 'thrA'), (2800, 3733, 1, 'b0003', 'thrB'), (3733, 5020, 1, 'b0004', 'thrC'), (5233, 5530, 1, 'b0005', 'yaaX'), (5682, 6459, -1, 'b0006', 'yaaA'), (6528, 7959, -1, 'b0007', 'yaaJ'), (8237, 9191, 1, 'b0008', 'talB'), (9305, 9893, 1, 'b0009', 'mog'), (9927, 10494, -1, 'b0010', 'yaaH')]\n"
     ]
    }
   ],
   "source": [
    "cds_5G = get_cds_coords(gb_5G)\n",
    "print(cds_5G[:10])\n",
    "print()\n",
    "\n",
    "cds_ecoli = get_cds_coords(gb_ecoli)\n",
    "print(cds_ecoli[:10])"
   ]
  },
  {
   "cell_type": "code",
   "execution_count": null,
   "metadata": {},
   "outputs": [],
   "source": []
  }
 ],
 "metadata": {
  "kernelspec": {
   "display_name": "Python 3",
   "language": "python",
   "name": "python3"
  },
  "language_info": {
   "codemirror_mode": {
    "name": "ipython",
    "version": 3
   },
   "file_extension": ".py",
   "mimetype": "text/x-python",
   "name": "python",
   "nbconvert_exporter": "python",
   "pygments_lexer": "ipython3",
   "version": "3.6.8"
  }
 },
 "nbformat": 4,
 "nbformat_minor": 2
}
