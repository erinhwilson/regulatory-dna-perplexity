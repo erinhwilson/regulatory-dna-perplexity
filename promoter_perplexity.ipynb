{
 "cells": [
  {
   "cell_type": "markdown",
   "metadata": {},
   "source": [
    "# Investigating perplexity scores for promoter regions using varying promoter extraction techniques"
   ]
  },
  {
   "cell_type": "code",
   "execution_count": 1,
   "metadata": {},
   "outputs": [],
   "source": [
    "import Bio\n",
    "from Bio import SeqIO, SeqFeature\n",
    "from Bio.SeqRecord import SeqRecord\n",
    "from Bio.Seq import Seq\n",
    "\n",
    "import pandas as pd\n",
    "import matplotlib.pyplot as plt\n",
    "import numpy as np\n",
    "import seaborn as sns"
   ]
  },
  {
   "cell_type": "markdown",
   "metadata": {},
   "source": [
    "## Genbank files and general genome info"
   ]
  },
  {
   "cell_type": "code",
   "execution_count": 2,
   "metadata": {},
   "outputs": [],
   "source": [
    "# 5GB1c genome (Methylomicrobium buryatense from Mitch)\n",
    "gbFile_5G = 'data/5GB1c.current.gb'\n",
    "\n",
    "# E. coli genome (https://www.ncbi.nlm.nih.gov/nuccore/NC_000913.2)\n",
    "gbFile_ecoli = 'data/ecoli_k12_NC_000913.2.gb'"
   ]
  },
  {
   "cell_type": "code",
   "execution_count": 3,
   "metadata": {},
   "outputs": [
    {
     "name": "stdout",
     "output_type": "stream",
     "text": [
      "___ 5G ____\n",
      "Genome length: 4998879 bps\n",
      "num features: 8863\n",
      "num CDS features: 4369\n",
      "num gene features: 4427\n",
      "\n",
      "___ Ecoli ____\n",
      "Genome length: 4639675 bps\n",
      "num features: 9913\n",
      "num CDS features: 4321\n",
      "num gene features: 4497\n"
     ]
    }
   ],
   "source": [
    "gb_5G = SeqIO.parse(gbFile_5G, \"genbank\").__next__()\n",
    "gb_ecoli = SeqIO.parse(gbFile_ecoli, \"genbank\").__next__()\n",
    "\n",
    "print(\"___ 5G ____\")\n",
    "print(\"Genome length:\", len(gb_5G.seq), \"bps\")\n",
    "print(\"num features:\", len(gb_5G.features))\n",
    "print(\"num CDS features:\", len([x for x in gb_5G.features if x.type=='CDS']))\n",
    "print(\"num gene features:\", len([x for x in gb_5G.features if x.type=='gene']))\n",
    "\n",
    "print(\"\\n___ Ecoli ____\")\n",
    "print(\"Genome length:\", len(gb_ecoli.seq), \"bps\")\n",
    "print(\"num features:\", len(gb_ecoli.features))\n",
    "print(\"num CDS features:\", len([x for x in gb_ecoli.features if x.type=='CDS']))\n",
    "print(\"num gene features:\", len([x for x in gb_ecoli.features if x.type=='gene']))"
   ]
  },
  {
   "cell_type": "code",
   "execution_count": 4,
   "metadata": {},
   "outputs": [
    {
     "name": "stdout",
     "output_type": "stream",
     "text": [
      "type: source\n",
      "location: [0:4998879](+)\n",
      "qualifiers:\n",
      "    Key: collection_date, Value: ['1999-01']\n",
      "    Key: country, Value: ['Russia: Transbaikal']\n",
      "    Key: db_xref, Value: ['taxon:95641']\n",
      "    Key: isolation_source, Value: ['Soda lake sediment']\n",
      "    Key: mol_type, Value: ['genomic DNA']\n",
      "    Key: organism, Value: ['Methylomicrobium buryatense']\n",
      "    Key: strain, Value: ['5GB1C']\n",
      "\n",
      "type: gene\n",
      "location: [0:1317](+)\n",
      "qualifiers:\n",
      "    Key: gene, Value: ['dnaA']\n",
      "    Key: locus_tag, Value: ['EQU24_00005']\n",
      "\n",
      "type: CDS\n",
      "location: [0:1317](+)\n",
      "qualifiers:\n",
      "    Key: codon_start, Value: ['1']\n",
      "    Key: gene, Value: ['dnaA']\n",
      "    Key: inference, Value: ['COORDINATES: similar to AA sequence:RefSeq:WP_006891211.1']\n",
      "    Key: locus_tag, Value: ['EQU24_00005']\n",
      "    Key: note, Value: ['Derived by automated computational analysis using gene prediction method: Protein Homology.']\n",
      "    Key: product, Value: ['chromosomal replication initiator protein DnaA']\n",
      "    Key: protein_id, Value: ['PRJNA515283:EQU24_00005']\n",
      "    Key: transl_table, Value: ['11']\n",
      "    Key: translation, Value: ['MSALWNNCLAKLENEISSSEFSTWIRPLQAIETDGQIKLLAPNRFVLDWVKEHHFAKLEEAIQQLSNGSLSLQLDIGSKKAIPAPAPQHTKAPDSKKSRPNFLNRAFIFDNFVEGKSNQLAKAASIQVSENIGKAYNPLLIYGASGLGKTHLMHAIGNAILQHNPSAKIVYLHSEKFVQDMVKALQQNAIDTFKEYYRGVDTLLIDDIQFFAGKERSQEEFFHTFNTLLEKKHQVVLTCDKYPKEIVGLEDRLKSRFGWGLPVAIEPPDLETRAAILMKKAMMAGVDLPQEVAFFIGKRIPSNVRDLEGALRRVIANAQFTGREITTEFTKEALHDLISLQDKLVNIDNIQKTVAEYFKIRVADLSSKNRRQSITRPRQIAMCLARELTSHSFPEIGEAFGGRDHTTVINACKRIASLRDSDVKLEEDYLNLLRTLSH']\n",
      "\n",
      "type: gene\n",
      "location: [1502:2603](+)\n",
      "qualifiers:\n",
      "    Key: locus_tag, Value: ['EQU24_00010']\n",
      "\n",
      "type: CDS\n",
      "location: [1502:2603](+)\n",
      "qualifiers:\n",
      "    Key: EC_number, Value: ['2.7.7.7']\n",
      "    Key: codon_start, Value: ['1']\n",
      "    Key: inference, Value: ['COORDINATES: similar to AA sequence:RefSeq:WP_020484043.1']\n",
      "    Key: locus_tag, Value: ['EQU24_00010']\n",
      "    Key: note, Value: ['Derived by automated computational analysis using gene prediction method: Protein Homology.']\n",
      "    Key: product, Value: ['DNA polymerase III subunit beta']\n",
      "    Key: protein_id, Value: ['PRJNA515283:EQU24_00010']\n",
      "    Key: transl_table, Value: ['11']\n",
      "    Key: translation, Value: ['MKYIINREQLLVPLQQIVSVIEKRQTMPILSNVLMVFRENTLVMTGTDLEVQIVTEIAIENTTFAEITLPARKFLDICRLLPTGADIKLEVADDKVKVLSGRSRFILSTLPAENYPEFSETELDHRFTINAGLFKKALEKTVFCMASQDVRYYLNGLLLNISNSRIKLVASDGHRLSVFEDNLANPAGYEARIILPRKGVMELVRLLDDPQIQLAIEFSSNNIRVTINNTIFSAKLVDAKYPDFNRVFHQDFLTPIHIQRQLLKDALTRVAILSNEKYKGVTFDLSSDSLKISAHNPEHEEAEEEIVTDYVGEPLSIAFNVQYVLDAISNIDSEISELTIASNSSCCIIDEPETRSYRFIVMPMRL']\n",
      "\n",
      "type: source\n",
      "location: [0:4639675](+)\n",
      "qualifiers:\n",
      "    Key: db_xref, Value: ['taxon:511145']\n",
      "    Key: mol_type, Value: ['genomic DNA']\n",
      "    Key: organism, Value: ['Escherichia coli str. K-12 substr. MG1655']\n",
      "    Key: strain, Value: ['K-12']\n",
      "    Key: sub_strain, Value: ['MG1655']\n",
      "\n",
      "type: gene\n",
      "location: [189:255](+)\n",
      "qualifiers:\n",
      "    Key: db_xref, Value: ['EcoGene:EG11277', 'GeneID:944742']\n",
      "    Key: gene, Value: ['thrL']\n",
      "    Key: gene_synonym, Value: ['ECK0001; JW4367']\n",
      "    Key: locus_tag, Value: ['b0001']\n",
      "\n",
      "type: CDS\n",
      "location: [189:255](+)\n",
      "qualifiers:\n",
      "    Key: GO_process, Value: ['GO:0009088 - threonine biosynthetic process']\n",
      "    Key: codon_start, Value: ['1']\n",
      "    Key: db_xref, Value: ['ASAP:ABE-0000006', 'UniProtKB/Swiss-Prot:P0AD86', 'EcoGene:EG11277', 'GeneID:944742']\n",
      "    Key: function, Value: ['leader; Amino acid biosynthesis: Threonine', '1.5.1.8 metabolism; building block biosynthesis; amino acids; threonine']\n",
      "    Key: gene, Value: ['thrL']\n",
      "    Key: gene_synonym, Value: ['ECK0001; JW4367']\n",
      "    Key: locus_tag, Value: ['b0001']\n",
      "    Key: product, Value: ['thr operon leader peptide']\n",
      "    Key: protein_id, Value: ['NP_414542.1']\n",
      "    Key: transl_table, Value: ['11']\n",
      "    Key: translation, Value: ['MKRISTTITTTITITTGNGAG']\n",
      "\n",
      "type: gene\n",
      "location: [336:2799](+)\n",
      "qualifiers:\n",
      "    Key: db_xref, Value: ['EcoGene:EG10998', 'GeneID:945803']\n",
      "    Key: gene, Value: ['thrA']\n",
      "    Key: gene_synonym, Value: ['ECK0002; Hs; JW0001; thrA1; thrA2; thrD']\n",
      "    Key: locus_tag, Value: ['b0002']\n",
      "\n",
      "type: CDS\n",
      "location: [336:2799](+)\n",
      "qualifiers:\n",
      "    Key: EC_number, Value: ['1.1.1.3', '2.7.2.4']\n",
      "    Key: GO_component, Value: ['GO:0005737 - cytoplasm']\n",
      "    Key: GO_process, Value: ['GO:0009090 - homoserine biosynthetic process; GO:0009086 - methionine biosynthetic process; GO:0009088 - threonine biosynthetic process']\n",
      "    Key: codon_start, Value: ['1']\n",
      "    Key: db_xref, Value: ['ASAP:ABE-0000008', 'UniProtKB/Swiss-Prot:P00561', 'EcoGene:EG10998', 'GeneID:945803']\n",
      "    Key: experiment, Value: ['N-terminus verified by Edman degradation: PMID 354697,4562989']\n",
      "    Key: function, Value: ['enzyme; Amino acid biosynthesis: Threonine', '1.5.1.8 metabolism; building block biosynthesis; amino acids; threonine', '1.5.1.21 metabolism; building block biosynthesis; amino acids; homoserine', '7.1 location of gene products; cytoplasm']\n",
      "    Key: gene, Value: ['thrA']\n",
      "    Key: gene_synonym, Value: ['ECK0002; Hs; JW0001; thrA1; thrA2; thrD']\n",
      "    Key: locus_tag, Value: ['b0002']\n",
      "    Key: note, Value: ['bifunctional: aspartokinase I (N-terminal); homoserine dehydrogenase I (C-terminal)']\n",
      "    Key: product, Value: ['fused aspartokinase I and homoserine dehydrogenase I']\n",
      "    Key: protein_id, Value: ['NP_414543.1']\n",
      "    Key: transl_table, Value: ['11']\n",
      "    Key: translation, Value: ['MRVLKFGGTSVANAERFLRVADILESNARQGQVATVLSAPAKITNHLVAMIEKTISGQDALPNISDAERIFAELLTGLAAAQPGFPLAQLKTFVDQEFAQIKHVLHGISLLGQCPDSINAALICRGEKMSIAIMAGVLEARGHNVTVIDPVEKLLAVGHYLESTVDIAESTRRIAASRIPADHMVLMAGFTAGNEKGELVVLGRNGSDYSAAVLAACLRADCCEIWTDVDGVYTCDPRQVPDARLLKSMSYQEAMELSYFGAKVLHPRTITPIAQFQIPCLIKNTGNPQAPGTLIGASRDEDELPVKGISNLNNMAMFSVSGPGMKGMVGMAARVFAAMSRARISVVLITQSSSEYSISFCVPQSDCVRAERAMQEEFYLELKEGLLEPLAVTERLAIISVVGDGMRTLRGISAKFFAALARANINIVAIAQGSSERSISVVVNNDDATTGVRVTHQMLFNTDQVIEVFVIGVGGVGGALLEQLKRQQSWLKNKHIDLRVCGVANSKALLTNVHGLNLENWQEELAQAKEPFNLGRLIRLVKEYHLLNPVIVDCTSSQAVADQYADFLREGFHVVTPNKKANTSSMDYYHQLRYAAEKSRRKFLYDTNVGAGLPVIENLQNLLNAGDELMKFSGILSGSLSYIFGKLDEGMSFSEATTLAREMGYTEPDPRDDLSGMDVARKLLILARETGRELELADIEIEPVLPAEFNAEGDVAAFMANLSQLDDLFAARVAKARDEGKVLRYVGNIDEDGVCRVKIAEVDGNDPLFKVKNGENALAFYSHYYQPLPLVLRGYGAGNDVTAAGVFADLLRTLSWKLGV']\n",
      "\n"
     ]
    }
   ],
   "source": [
    "# a sampling of genbank features\n",
    "for x in gb_5G.features[:5]:\n",
    "    print(x)\n",
    "    \n",
    "for x in gb_ecoli.features[:5]:\n",
    "    print(x)"
   ]
  },
  {
   "cell_type": "markdown",
   "metadata": {},
   "source": [
    "## CDS processing"
   ]
  },
  {
   "cell_type": "code",
   "execution_count": 5,
   "metadata": {},
   "outputs": [],
   "source": [
    "def get_cds_coords(seq_record):\n",
    "    '''\n",
    "    Given a SeqRecord parsed from a genbank file, return a list of \n",
    "    all the CDS start/end coordinates and gene/locus names\n",
    "    '''\n",
    "    cds_list = []\n",
    "    # Loop over the genome CDS features on each of the strands\n",
    "    for feature in seq_record.features:\n",
    "        if feature.type == 'CDS':\n",
    "            # get  locus tag and gene name\n",
    "            lt = feature.qualifiers['locus_tag'][0]\n",
    "            g = \"\" if 'gene' not in feature.qualifiers else feature.qualifiers['gene'][0]\n",
    "            \n",
    "            cds_list.append((feature.location.start.position,\n",
    "                             feature.location.end.position,\n",
    "                             feature.strand,\n",
    "                             lt,\n",
    "                             g))\n",
    "    return cds_list"
   ]
  },
  {
   "cell_type": "code",
   "execution_count": 6,
   "metadata": {},
   "outputs": [
    {
     "name": "stdout",
     "output_type": "stream",
     "text": [
      "[(0, 1317, 1, 'EQU24_00005', 'dnaA'), (1502, 2603, 1, 'EQU24_00010', ''), (3060, 4140, 1, 'EQU24_00015', 'recF'), (4185, 6600, 1, 'EQU24_00020', 'gyrB'), (6825, 7062, 1, 'EQU24_00025', ''), (7098, 7257, 1, 'EQU24_00030', ''), (7350, 7734, 1, 'EQU24_00035', ''), (7818, 9075, 1, 'EQU24_00040', ''), (9071, 10241, 1, 'EQU24_00045', ''), (10240, 13306, 1, 'EQU24_00050', '')]\n",
      "\n",
      "[(189, 255, 1, 'b0001', 'thrL'), (336, 2799, 1, 'b0002', 'thrA'), (2800, 3733, 1, 'b0003', 'thrB'), (3733, 5020, 1, 'b0004', 'thrC'), (5233, 5530, 1, 'b0005', 'yaaX'), (5682, 6459, -1, 'b0006', 'yaaA'), (6528, 7959, -1, 'b0007', 'yaaJ'), (8237, 9191, 1, 'b0008', 'talB'), (9305, 9893, 1, 'b0009', 'mog'), (9927, 10494, -1, 'b0010', 'yaaH')]\n"
     ]
    }
   ],
   "source": [
    "cds_5G = get_cds_coords(gb_5G)\n",
    "print(cds_5G[:10])\n",
    "print()\n",
    "\n",
    "cds_ecoli = get_cds_coords(gb_ecoli)\n",
    "print(cds_ecoli[:10])"
   ]
  },
  {
   "cell_type": "markdown",
   "metadata": {},
   "source": [
    "### Check that all the features in the CDS lists are indeed ordered"
   ]
  },
  {
   "cell_type": "code",
   "execution_count": 7,
   "metadata": {},
   "outputs": [
    {
     "name": "stdout",
     "output_type": "stream",
     "text": [
      "True\n",
      "True\n",
      "\n",
      "True\n",
      "False\n"
     ]
    }
   ],
   "source": [
    "# 5G start coordinates and genome locus tags\n",
    "starts = [x[0] for x in cds_5G]\n",
    "print(starts == sorted(starts))\n",
    "loci = [x[3].split('_')[1] for x in cds_5G]\n",
    "print(loci == sorted(loci))\n",
    "\n",
    "print()\n",
    "\n",
    "# E coli start coordinates and genome locus tags\n",
    "starts = [x[0] for x in cds_ecoli]\n",
    "print(starts == sorted(starts))\n",
    "loci = [x[3][1:] for x in cds_ecoli]\n",
    "print(loci == sorted(loci))"
   ]
  },
  {
   "cell_type": "code",
   "execution_count": 9,
   "metadata": {},
   "outputs": [
    {
     "data": {
      "text/plain": [
       "[(189, 255, 1, 'b0001', 'thrL'),\n",
       " (336, 2799, 1, 'b0002', 'thrA'),\n",
       " (2800, 3733, 1, 'b0003', 'thrB'),\n",
       " (3733, 5020, 1, 'b0004', 'thrC'),\n",
       " (5233, 5530, 1, 'b0005', 'yaaX'),\n",
       " (5682, 6459, -1, 'b0006', 'yaaA'),\n",
       " (6528, 7959, -1, 'b0007', 'yaaJ'),\n",
       " (8237, 9191, 1, 'b0008', 'talB'),\n",
       " (9305, 9893, 1, 'b0009', 'mog'),\n",
       " (9927, 10494, -1, 'b0010', 'yaaH'),\n",
       " (10642, 11356, -1, 'b0011', 'yaaW'),\n",
       " (11381, 11786, -1, 'b0013', 'yaaI'),\n",
       " (12162, 14079, 1, 'b0014', 'dnaK'),\n",
       " (14167, 15298, 1, 'b0015', 'dnaJ'),\n",
       " (15444, 16557, 1, 'b0016', 'insL1'),\n",
       " (16750, 16960, -1, 'b0018', 'mokC'),\n",
       " (16750, 16903, -1, 'b4412', 'hokC'),\n",
       " (17488, 18655, 1, 'b0019', 'nhaA'),\n",
       " (18714, 19620, 1, 'b0020', 'nhaR'),\n",
       " (19810, 20314, -1, 'b0021', 'insB1')]"
      ]
     },
     "execution_count": 9,
     "metadata": {},
     "output_type": "execute_result"
    }
   ],
   "source": [
    "# Seems like some ecoli genes were added between others after the fact (like hokC)... \n",
    "# probs ok...?\n",
    "cds_ecoli[:20]"
   ]
  },
  {
   "cell_type": "markdown",
   "metadata": {},
   "source": [
    "### Quick plots to see CDS distribution"
   ]
  },
  {
   "cell_type": "code",
   "execution_count": 11,
   "metadata": {},
   "outputs": [
    {
     "data": {
      "image/png": "[encoded data removed]",
      "text/plain": [
       "<Figure size 1440x720 with 1 Axes>"
      ]
     },
     "metadata": {
      "needs_background": "light"
     },
     "output_type": "display_data"
    }
   ],
   "source": [
    "cds_5G_lengths = [e-s for (s,e,_,_,_) in cds_5G]\n",
    "cds_ecoli_lengths = [e-s for (s,e,_,_,_) in cds_ecoli]\n",
    "\n",
    "plt.figure(figsize=(20,10))\n",
    "plt.hist(cds_5G_lengths, alpha = 0.5, bins=50, label='5GB1c')\n",
    "plt.hist(cds_ecoli_lengths, alpha = 0.5, bins=50, label='E. Coli')\n",
    "plt.yscale('log')\n",
    "plt.xlabel(\"CDS length\")\n",
    "plt.ylabel(\"CDS count\")\n",
    "plt.title(\"Distribution of CDS lengths in 5GB1c and E. coli\")\n",
    "plt.legend(fontsize = 20)\n",
    "plt.show()"
   ]
  },
  {
   "cell_type": "code",
   "execution_count": 12,
   "metadata": {},
   "outputs": [
    {
     "data": {
      "image/png": "[encoded data removed]",
      "text/plain": [
       "<Figure size 1440x720 with 1 Axes>"
      ]
     },
     "metadata": {
      "needs_background": "light"
     },
     "output_type": "display_data"
    }
   ],
   "source": [
    "plt.figure(figsize=(20,10))\n",
    "plt.hist(cds_5G_lengths, alpha = 0.5, bins=500, label='5GB1c')\n",
    "plt.hist(cds_ecoli_lengths, alpha = 0.5, bins=500, label='E. Coli')\n",
    "\n",
    "#plt.yscale('log')\n",
    "plt.xlabel(\"CDS length\")\n",
    "plt.ylabel(\"CDS count\")\n",
    "plt.title(\"Distribution of CDS lengths in 5GB1c and E. coli (Zoomed)\")\n",
    "plt.xlim(0,3000)\n",
    "plt.legend(fontsize = 20)\n",
    "plt.show()"
   ]
  },
  {
   "cell_type": "markdown",
   "metadata": {},
   "source": [
    "### Gene locus look up dict"
   ]
  },
  {
   "cell_type": "code",
   "execution_count": 10,
   "metadata": {},
   "outputs": [],
   "source": [
    "def get_locus_gene_lookup(cds_list):\n",
    "    '''\n",
    "    Given a list of CDSs with locus tag and gene info, return a dict mapping\n",
    "    locus tag to gene name\n",
    "    '''\n",
    "    locus_gene_lookup = {}\n",
    "    # loop through the CDS list and make a look up of locus to gene\n",
    "    for x in cds_list:\n",
    "        if x[4]== '':\n",
    "            # if the gene name is empty, just use the locus tag\n",
    "            locus_gene_lookup[x[3]] = x[3]\n",
    "        # otherwise use the gene name\n",
    "        else:\n",
    "            locus_gene_lookup[x[3]] = x[4]\n",
    "\n",
    "    return locus_gene_lookup\n",
    "\n",
    "locus_gene_lookup_5G = get_locus_gene_lookup(cds_5G)\n",
    "locus_gene_lookup_ecoli = get_locus_gene_lookup(cds_ecoli)"
   ]
  },
  {
   "cell_type": "markdown",
   "metadata": {},
   "source": [
    "# Promoter Extraction"
   ]
  },
  {
   "cell_type": "code",
   "execution_count": 15,
   "metadata": {},
   "outputs": [],
   "source": [
    "def get_promoters(gb_record, \n",
    "                  cds_list, \n",
    "                  promoter_window = 300,\n",
    "                  operon_mode = False, \n",
    "                  min_gene_distance=40):\n",
    "    '''\n",
    "    Given a list of CDSs with (LEFT, RIGHT, STRAND, locus, gene),\n",
    "    loop through and collect their promoters by getting the 300 bp\n",
    "    upstream of the start codon. If in operon conscious mode, ignore \n",
    "    regions that fall within min_gene_distance bp of another gene. \n",
    "    (Won't exhaustively consider all operons but a quick-n-dirty start)\n",
    "    \n",
    "    Args:\n",
    "      * promoter_window: how far upstream of a gene should we extract a promoter region?\n",
    "      * operon_mode: When True, it will ignore upstream regions which are \"too close\" to the \n",
    "          current gene (aka within min_gene_distance of the start codon)\n",
    "      * min_gene_distance: min distance required between the current gene and its \n",
    "          upstream neighbor otherwise we flag it as a potential operon\n",
    "    '''\n",
    "    promoters = [] # promoter sequence and genes they belong to\n",
    "    candidate_operon_genes = [] # gene pairings that are potentially in the same operon\n",
    "    operon_locs = [] # mid point in intergenic distance between two genes which have been \n",
    "                     # flagged as potentially in an operon\n",
    "    \n",
    "    # loop through all CDSs\n",
    "    for i,(g_left,g_right,strand,locus,gene) in enumerate(cds_list):\n",
    "        # keep track of whether or not to skip operon\n",
    "        operon_skip_flag = False\n",
    "        \n",
    "        gene_string = \"%s|%s\" % (locus, gene)\n",
    "        \n",
    "        # +-----------------+\n",
    "        # | NEGATIVE STRAND |\n",
    "        # +-----------------+\n",
    "        # if we're on the negative strand, go 300bp to the right, reverse compelement\n",
    "        if strand == -1:\n",
    "            # get the range of the promoter region\n",
    "            p_left = g_right + 1\n",
    "            p_right = p_left + promoter_window\n",
    "            \n",
    "            # extract actual DNA\n",
    "            seq = gb_record.seq[p_left:p_right]\n",
    "            \n",
    "            # if we're in operon mode and this isn't the last gene (aka no rightward operon),\n",
    "            # check the min_distance window for other annotations\n",
    "            if operon_mode and i < len(cds_list) -1:\n",
    "                # get the FOLLOWING feature (because on -1 strand)\n",
    "                upstream_gene = cds_list[i+1]\n",
    "                # if the left side of the upstream gene is within min_distance\n",
    "                if (\n",
    "                    upstream_gene[0] < (g_right + min_gene_distance) and\n",
    "                    upstream_gene[2] == strand # and same strand \n",
    "                ): \n",
    "                    operon_skip_flag = True\n",
    "                    \n",
    "                    # get the midpoint between the genes that are too close\n",
    "                    op_mid_point = (g_right + upstream_gene[0])/2\n",
    "                    operon_locs.append((op_mid_point, strand))\n",
    "                    # add the upstream locus and the current locus to candidate list\n",
    "                    candidate_operon_genes.append((upstream_gene, cds_list[i]))\n",
    "\n",
    "        # +-----------------+\n",
    "        # | POSITIVE STRAND |\n",
    "        # +-----------------+\n",
    "        # if we're on the positive strand, go 300bp to the left\n",
    "        else:\n",
    "            # get the range of the promoter region\n",
    "            p_right = g_left - 1 \n",
    "            p_left = p_right - promoter_window\n",
    "            \n",
    "            # extract actual DNA\n",
    "            seq = gb_record.seq[p_left:p_right].reverse_complement()\n",
    "            \n",
    "            # if we're in operon mode and this isn't the first gene (aka no leftward operon),\n",
    "            # check this window for other annotations\n",
    "            if operon_mode and i != 0:\n",
    "                # get the PREVIOUS feature (because on +1 strand)\n",
    "                upstream_gene = cds_list[i-1]\n",
    "                # if the right side of the upstream gene is within min_distance\n",
    "                if (\n",
    "                    upstream_gene[1] > (g_left - min_gene_distance) and \n",
    "                    upstream_gene[2] == strand # and same strand\n",
    "                ):\n",
    "                    operon_skip_flag = True\n",
    "                    \n",
    "                    # get the midpoint between the genes that are too close\n",
    "                    op_mid_point = (g_left + upstream_gene[1])/2\n",
    "                    operon_locs.append((op_mid_point, strand))\n",
    "                    # add the upstream locus and the current locus to candidate list\n",
    "                    candidate_operon_genes.append((upstream_gene, cds_list[i]))\n",
    "        \n",
    "        # To skip or NOT to skip?\n",
    "        if not operon_skip_flag:\n",
    "            promoters.append((gene_string, str(seq)))\n",
    "            \n",
    "    return promoters, operon_locs, candidate_operon_genes\n",
    "        \n",
    "        "
   ]
  },
  {
   "cell_type": "code",
   "execution_count": 18,
   "metadata": {},
   "outputs": [
    {
     "name": "stdout",
     "output_type": "stream",
     "text": [
      "Num naive promoters: 4369\n",
      "Num operon promoters: 2840\n"
     ]
    }
   ],
   "source": [
    "# use naive (operon ignorant) strategy to extract promoters\n",
    "naive_p_set,_,_ = get_promoters(gb_5G,cds_5G)\n",
    "print(\"Num naive promoters:\", len(naive_p_set))\n",
    "\n",
    "# use operon ignorant conscious strategy to extract promoters\n",
    "operon_p_set,operon_locs,op_cand = get_promoters(gb_5G, cds_5G, operon_mode = True)\n",
    "print(\"Num operon promoters:\", len(operon_p_set))\n"
   ]
  },
  {
   "cell_type": "code",
   "execution_count": 22,
   "metadata": {},
   "outputs": [
    {
     "name": "stdout",
     "output_type": "stream",
     "text": [
      "[('EQU24_00005|dnaA', 'ATTTAAGAAGGTAGCGAAGAGTAAATAGATGATATTATAAAAAAATTATGCCACTATACAGCAATCAAATCAGTGCCGGCATAATTGACATAAACCGGCGTTTATTCTATCATCCCGGATCTTTTTTATCCGTTTTTGTTAACAATCATCTGAACCAGGATTTAAGGCCATGAAAAGAACCTATCAACCCAGTAAAATTAAACGCGTAAGAACTCACGGCTTTCGTGCCAGAATGGCGACCAAAGGCGGCCGTAAAGTCCTTAACGCCCGCAGAGCCAAGGGCCGTGCCAAGCTAACAGT'), ('EQU24_00010|', 'TAAGATATTTATTTATATTTACTATTAGCCTATAAAAAAAGCGTGATAAGTCATTTTTTATTTTATTTATCAATAGCTTATGAACTGTAAAACCGGCGTTTAAAGCTGTGGATAAGCGCTTGATAAAAAGAGGATAACTCTCCTTCTCTGCTAAAGACTATAGTTATCCACAAGTTAAACACCGTTAATGCGACAATGTTCTCAACAGGTTTAAATAATCTTCCTCAAGCTTTACATCCGAATCACGTAAAGAAGCAATGCGTTTACAAGCATTAATAACCGTGGTGTGATCGCGTCCAC'), ('EQU24_00015|recF', 'GTTTATTAGTTGCTAGTCAAAAAAAGCACGCGGTTAACACCGGTTAGATGAACAACAAGCTCGTTTTTTTGTTGCTTCCACATTTAATAATGACTGCGATTTAGAAATTTCAGGAAGTTAGTGAAAAGTTGACCTTAACGTTCATGAAAGCCAGGTCATCGCCCCGGAAAATGAAAGCTCTGGGTAGCTGAGGGTGCGGTCACTCGACCGACAGGACACCGTGAATACGTCCGTGTAGGCTTGACGGCGGCTATCCTTGCCGCCGACGCCTGTCGGACGAGAAACCGCCCCTCTTCGCAA'), ('EQU24_00020|gyrB', 'TGTGTTCACTACCTTCTCAATGTACCAATGTTTCACGTGAAACATTACGCTTGTTTAATTTCACCATGTTCCACGTGGAACATTTTATAGTTATTAAGTTTACTCAAATCACCATACTCAGACAGCTCAGTGGCCGTGATAAAAACCTGAACATCCATTGCTTGTAAATATTCTATTAACAGCGCTCTTTTGGTTGTATCCAATTCAGCAGTAAAATCATCGATTAAAACACAGACATTGTTACTCTGATGTGTCGACAATAATTGTACTTGCGCAAGCTTTAAACATAGAACTAACAAT'), ('EQU24_00025|', 'GCTCTTCTTTTTCAGCTCTGTATGTTTGATTATGCTGAGCTATACCCACGCACCTCAAATTTCGTTGTTGACGCGTGGAGGTGCGGGGTGTTCGGCAAAGGCTTTGACAGCAGGGATGCTGTCACAGAGCCTACATGGACGTATTCACGGCGTCCTTTGACGGGCACCCCGACGCCGAAATTTGACTAACAAAGGGTATACAATCCCCTTTTTAGACCAAAAACCTACACATCCAAATTCGTCACATCCAGCGCATTCTTGACGATGAAATCCCGGCGCGGTTCGACGATGTCGCCCATC'), ('EQU24_00030|', 'TATAGGGTGTCGGTATCTTCGAAATAGGCTGACTTTCATGGTTTATACCCTCTATCGATAAATGCGTTATGTACGGTTTCCCCATCCGGCAACAGGATTACCCGCGGATACCGGCCTCCCATTTCTTCAATTCTTGCCCATCGCCTTATTCTGCCATCGAACTGTATGTGCTCATTTTCAGGAAACCGGACAACGTATTGAATCCATTCGTCCTTGATAATCTCTCGATCCGGTCTCATACGGGTTGTCAGGAAGTATTTTGTTGTCTTCACTGCTCTTCTTTTTCAGCTCTGTATGTTT')]\n",
      "\n",
      "[('EQU24_00005|dnaA', 'ATTTAAGAAGGTAGCGAAGAGTAAATAGATGATATTATAAAAAAATTATGCCACTATACAGCAATCAAATCAGTGCCGGCATAATTGACATAAACCGGCGTTTATTCTATCATCCCGGATCTTTTTTATCCGTTTTTGTTAACAATCATCTGAACCAGGATTTAAGGCCATGAAAAGAACCTATCAACCCAGTAAAATTAAACGCGTAAGAACTCACGGCTTTCGTGCCAGAATGGCGACCAAAGGCGGCCGTAAAGTCCTTAACGCCCGCAGAGCCAAGGGCCGTGCCAAGCTAACAGT'), ('EQU24_00010|', 'TAAGATATTTATTTATATTTACTATTAGCCTATAAAAAAAGCGTGATAAGTCATTTTTTATTTTATTTATCAATAGCTTATGAACTGTAAAACCGGCGTTTAAAGCTGTGGATAAGCGCTTGATAAAAAGAGGATAACTCTCCTTCTCTGCTAAAGACTATAGTTATCCACAAGTTAAACACCGTTAATGCGACAATGTTCTCAACAGGTTTAAATAATCTTCCTCAAGCTTTACATCCGAATCACGTAAAGAAGCAATGCGTTTACAAGCATTAATAACCGTGGTGTGATCGCGTCCAC'), ('EQU24_00015|recF', 'GTTTATTAGTTGCTAGTCAAAAAAAGCACGCGGTTAACACCGGTTAGATGAACAACAAGCTCGTTTTTTTGTTGCTTCCACATTTAATAATGACTGCGATTTAGAAATTTCAGGAAGTTAGTGAAAAGTTGACCTTAACGTTCATGAAAGCCAGGTCATCGCCCCGGAAAATGAAAGCTCTGGGTAGCTGAGGGTGCGGTCACTCGACCGACAGGACACCGTGAATACGTCCGTGTAGGCTTGACGGCGGCTATCCTTGCCGCCGACGCCTGTCGGACGAGAAACCGCCCCTCTTCGCAA'), ('EQU24_00020|gyrB', 'TGTGTTCACTACCTTCTCAATGTACCAATGTTTCACGTGAAACATTACGCTTGTTTAATTTCACCATGTTCCACGTGGAACATTTTATAGTTATTAAGTTTACTCAAATCACCATACTCAGACAGCTCAGTGGCCGTGATAAAAACCTGAACATCCATTGCTTGTAAATATTCTATTAACAGCGCTCTTTTGGTTGTATCCAATTCAGCAGTAAAATCATCGATTAAAACACAGACATTGTTACTCTGATGTGTCGACAATAATTGTACTTGCGCAAGCTTTAAACATAGAACTAACAAT'), ('EQU24_00025|', 'GCTCTTCTTTTTCAGCTCTGTATGTTTGATTATGCTGAGCTATACCCACGCACCTCAAATTTCGTTGTTGACGCGTGGAGGTGCGGGGTGTTCGGCAAAGGCTTTGACAGCAGGGATGCTGTCACAGAGCCTACATGGACGTATTCACGGCGTCCTTTGACGGGCACCCCGACGCCGAAATTTGACTAACAAAGGGTATACAATCCCCTTTTTAGACCAAAAACCTACACATCCAAATTCGTCACATCCAGCGCATTCTTGACGATGAAATCCCGGCGCGGTTCGACGATGTCGCCCATC'), ('EQU24_00035|', 'GGGCTTATGCTATGCCAAATAGTGATTGGTGGCAATAAAAAACAGGCGTGTATCAATCAATGCGGTTCGTTCCTAACCGCGTCCTACCGTGACTATGCTGCAATACCCTCAACAATCAGATGATTAACGTCAGTGCGCTGGCTTGCATGCTCAAATGTCATTGCACAGACGTTGCCTTGTGCATCAACGTCAATGATGGTGTTTTCATCCAAATCCTTGGATTCCACTATCCCGCTGCTGCGGAACTCGATGTATAGGGTGTCGGTATCTTCGAAATAGGCTGACTTTCATGGTTTATAC')]\n"
     ]
    }
   ],
   "source": [
    "print(naive_p_set[:6])\n",
    "print()\n",
    "print(operon_p_set[:6])\n",
    "# ^^ Sanity check: operon_p_set has decided to skip EQU24_00030!"
   ]
  },
  {
   "cell_type": "markdown",
   "metadata": {},
   "source": [
    "### Some sanity check plotting to see if what I'm calling possible operons sounds reasonable"
   ]
  },
  {
   "cell_type": "code",
   "execution_count": 24,
   "metadata": {},
   "outputs": [],
   "source": [
    "cds_strand_temp = [((x,y),(s,s)) for i,(x,y,s,_,_) in enumerate(cds_5G)]"
   ]
  },
  {
   "cell_type": "code",
   "execution_count": 30,
   "metadata": {},
   "outputs": [
    {
     "data": {
      "image/png": "[encoded data removed]",
      "text/plain": [
       "<Figure size 1440x720 with 1 Axes>"
      ]
     },
     "metadata": {
      "needs_background": "light"
     },
     "output_type": "display_data"
    },
    {
     "data": {
      "image/png": "[encoded data removed]",
      "text/plain": [
       "<Figure size 1440x720 with 1 Axes>"
      ]
     },
     "metadata": {
      "needs_background": "light"
     },
     "output_type": "display_data"
    }
   ],
   "source": [
    "# plot the first few genes along the 5G genome\n",
    "# Make a marker wherever there was an operon\n",
    "plt.figure(figsize=(20,10))\n",
    "\n",
    "for x,y in cds_strand_temp[:10]:\n",
    "    plt.plot(x, y, linewidth=5, zorder=0)\n",
    "\n",
    "for x,y in operon_locs[:4]:\n",
    "    plt.scatter(x,y, color=\"black\",marker=\"v\", s=200, zorder=2)\n",
    "\n",
    "plt.ylim(-5,5)\n",
    "plt.xlabel(\"genomic coord\")\n",
    "plt.show()\n",
    "\n",
    "\n",
    "# Zoom out\n",
    "plt.figure(figsize=(20,10))\n",
    "\n",
    "for x,y in cds_strand_temp[:50]:\n",
    "    plt.plot(x, y, linewidth=5, zorder=0)\n",
    "\n",
    "for x,y in operon_locs[:14]:\n",
    "    plt.scatter(x,y, color=\"black\",marker=\"v\", s=200, zorder=2)\n",
    "\n",
    "plt.ylim(-5,5)\n",
    "plt.xlabel(\"genomic coord\")\n",
    "plt.show()"
   ]
  },
  {
   "cell_type": "code",
   "execution_count": null,
   "metadata": {},
   "outputs": [],
   "source": []
  }
 ],
 "metadata": {
  "kernelspec": {
   "display_name": "Python 3",
   "language": "python",
   "name": "python3"
  },
  "language_info": {
   "codemirror_mode": {
    "name": "ipython",
    "version": 3
   },
   "file_extension": ".py",
   "mimetype": "text/x-python",
   "name": "python",
   "nbconvert_exporter": "python",
   "pygments_lexer": "ipython3",
   "version": "3.6.8"
  }
 },
 "nbformat": 4,
 "nbformat_minor": 2
}
